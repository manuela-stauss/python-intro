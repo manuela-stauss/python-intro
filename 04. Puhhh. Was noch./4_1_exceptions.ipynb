{
 "cells": [
  {
   "cell_type": "markdown",
   "metadata": {
    "collapsed": false
   },
   "source": [
    "# Umgang mit Fehlern\n",
    "\n",
    "Es ist leider eine Regel, dass beim Programmieren Fehler passieren.\n",
    "Daher gibt es in den meisten Programmiersprachen gute Möglichkeiten, damit umzugehen.\n",
    "\n",
    "Python, kennt das try..catch Prinzip.\n",
    "\n",
    "D.h. Fehler werden \"geworfen\" und gegebenenfalls auch wieder abgefangen.\n",
    "\n",
    "Das hat den großen Vorteil, dass man einen Fehler von der Stelle, an der er passiert, bis \"ganz nach oben\" - also an die Stelle, wo 'man grade ist', durchreichen kann. Der Fehler wird an der Stelle 'gefangen', an der man optimal damit umgehen kann.\n",
    "\n",
    "<img src=\"../img/fehler.png\" width=\"70%\" align=\"center\">\n"
   ]
  },
  {
   "cell_type": "markdown",
   "metadata": {
    "collapsed": false
   },
   "source": [
    "## Fehler abfangen"
   ]
  },
  {
   "cell_type": "code",
   "execution_count": null,
   "metadata": {
    "collapsed": false
   },
   "outputs": [],
   "source": [
    "# Ohne Fehlerbehandlung\n",
    "\n",
    "print(1/0)\n",
    "print('Ich werde nie erreicht.')"
   ]
  },
  {
   "cell_type": "code",
   "execution_count": 1,
   "metadata": {
    "collapsed": false
   },
   "outputs": [
    {
     "name": "stdout",
     "output_type": "stream",
     "text": [
      "Das hat leider nicht geklappt.\n",
      "Hier gehts weiter\n"
     ]
    }
   ],
   "source": [
    "# Mit Fehlerbehandlung\n",
    "\n",
    "try:\n",
    "    print(1/0)\n",
    "except:\n",
    "    print('Das hat leider nicht geklappt.')\n",
    "print('Hier gehts weiter')"
   ]
  },
  {
   "cell_type": "code",
   "execution_count": null,
   "metadata": {
    "collapsed": false
   },
   "outputs": [],
   "source": [
    "## Eigene Fehler 'werfen'\n",
    "\n",
    "def division (divident, divisor):\n",
    "    if divisor == 0:\n",
    "        raise Exception('Entschuldigung. Teilen durch 0 ist nicht erlaubt.')\n",
    "    return divident/divisor\n",
    "\n",
    "print(division(3,0))"
   ]
  },
  {
   "cell_type": "code",
   "execution_count": null,
   "metadata": {
    "collapsed": false
   },
   "outputs": [],
   "source": []
  }
 ],
 "metadata": {
  "kernelspec": {
   "display_name": "Python 3",
   "language": "python",
   "name": "python3"
  },
  "language_info": {
   "codemirror_mode": {
    "name": "ipython",
    "version": 3
   },
   "file_extension": ".py",
   "mimetype": "text/x-python",
   "name": "python",
   "nbconvert_exporter": "python",
   "pygments_lexer": "ipython3",
   "version": "3.12.1"
  }
 },
 "nbformat": 4,
 "nbformat_minor": 0
}
